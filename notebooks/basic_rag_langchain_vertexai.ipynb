{
 "cells": [
  {
   "cell_type": "code",
   "execution_count": 34,
   "metadata": {},
   "outputs": [],
   "source": [
    "import os\n",
    "from tqdm import tqdm\n",
    "\n",
    "import pandas as pd\n",
    "\n",
    "import langchain\n",
    "from langchain.chains import RetrievalQA\n",
    "from langchain.prompts import PromptTemplate\n",
    "from langchain_core.documents import Document\n",
    "from langchain_community.vectorstores import Chroma\n",
    " \n",
    "from langchain_google_vertexai import (\n",
    "    VertexAI , \n",
    "    VertexAIEmbeddings\n",
    ")\n",
    "from datasets import load_dataset"
   ]
  },
  {
   "cell_type": "code",
   "execution_count": 35,
   "metadata": {},
   "outputs": [],
   "source": [
    "#Create LLM\n",
    "llm = VertexAI(model_name = \"gemini-1.0-pro-002\")\n",
    "\n",
    "# create the embedding function\n",
    "embedding_function = VertexAIEmbeddings(model_name=\"textembedding-gecko@003\")"
   ]
  },
  {
   "cell_type": "code",
   "execution_count": 6,
   "metadata": {},
   "outputs": [
    {
     "data": {
      "text/plain": [
       "DatasetDict({\n",
       "    train: Dataset({\n",
       "        features: ['Questions', 'Answers', 'Contexts', 'Document', 'Page_no', 'Year', 'Sector', 'Entity', 'Document_type', 'Quarter'],\n",
       "        num_rows: 475\n",
       "    })\n",
       "    test: Dataset({\n",
       "        features: ['Questions', 'Answers', 'Contexts', 'Document', 'Page_no', 'Year', 'Sector', 'Entity', 'Document_type', 'Quarter'],\n",
       "        num_rows: 53\n",
       "    })\n",
       "})"
      ]
     },
     "execution_count": 6,
     "metadata": {},
     "output_type": "execute_result"
    }
   ],
   "source": [
    "#Load the dataset\n",
    "financial_qa_dataset = load_dataset(\"adityarane/financial-qa-dataset\")\n",
    "financial_qa_dataset"
   ]
  },
  {
   "cell_type": "code",
   "execution_count": 8,
   "metadata": {},
   "outputs": [
    {
     "data": {
      "text/html": [
       "<div>\n",
       "<style scoped>\n",
       "    .dataframe tbody tr th:only-of-type {\n",
       "        vertical-align: middle;\n",
       "    }\n",
       "\n",
       "    .dataframe tbody tr th {\n",
       "        vertical-align: top;\n",
       "    }\n",
       "\n",
       "    .dataframe thead th {\n",
       "        text-align: right;\n",
       "    }\n",
       "</style>\n",
       "<table border=\"1\" class=\"dataframe\">\n",
       "  <thead>\n",
       "    <tr style=\"text-align: right;\">\n",
       "      <th></th>\n",
       "      <th>Questions</th>\n",
       "      <th>Answers</th>\n",
       "      <th>Contexts</th>\n",
       "      <th>Document</th>\n",
       "      <th>Page_no</th>\n",
       "      <th>Year</th>\n",
       "      <th>Sector</th>\n",
       "      <th>Entity</th>\n",
       "      <th>Document_type</th>\n",
       "      <th>Quarter</th>\n",
       "    </tr>\n",
       "  </thead>\n",
       "  <tbody>\n",
       "    <tr>\n",
       "      <th>0</th>\n",
       "      <td>What was the  Accumulated other comprehensive ...</td>\n",
       "      <td>($1,434) million</td>\n",
       "      <td>Year Ended December\\n$ in millions 2022 2021 2...</td>\n",
       "      <td>2022-10-k.pdf</td>\n",
       "      <td>page_2</td>\n",
       "      <td>2022</td>\n",
       "      <td>Financial Services</td>\n",
       "      <td>Goldman Sachs</td>\n",
       "      <td>annual report</td>\n",
       "      <td>None</td>\n",
       "    </tr>\n",
       "    <tr>\n",
       "      <th>1</th>\n",
       "      <td>In 2021, how much cash did Goldman Sachs use f...</td>\n",
       "      <td>$30,465 million</td>\n",
       "      <td>Year Ended December\\n$ in millions 2022 2021 2...</td>\n",
       "      <td>2022-10-k.pdf</td>\n",
       "      <td>page_3</td>\n",
       "      <td>2022</td>\n",
       "      <td>Financial Services</td>\n",
       "      <td>Goldman Sachs</td>\n",
       "      <td>annual report</td>\n",
       "      <td>None</td>\n",
       "    </tr>\n",
       "    <tr>\n",
       "      <th>2</th>\n",
       "      <td>What was the net earnings of Goldman Sachs in ...</td>\n",
       "      <td>$11,261 million</td>\n",
       "      <td>Year Ended December\\n$ in millions 2022 2021 2...</td>\n",
       "      <td>2022-10-k.pdf</td>\n",
       "      <td>page_3</td>\n",
       "      <td>2022</td>\n",
       "      <td>Financial Services</td>\n",
       "      <td>Goldman Sachs</td>\n",
       "      <td>annual report</td>\n",
       "      <td>None</td>\n",
       "    </tr>\n",
       "    <tr>\n",
       "      <th>3</th>\n",
       "      <td>What was the depreciation and amortization exp...</td>\n",
       "      <td>$1,098 million</td>\n",
       "      <td>Table of Contents\\nNVIDIA CORPORATION AND SUBS...</td>\n",
       "      <td>4e9abe7b-fdc7-4cd2-8487-dc3a99f30e98.pdf</td>\n",
       "      <td>page_4</td>\n",
       "      <td>2022</td>\n",
       "      <td>Technology</td>\n",
       "      <td>Nvidia</td>\n",
       "      <td>annual report</td>\n",
       "      <td>None</td>\n",
       "    </tr>\n",
       "    <tr>\n",
       "      <th>4</th>\n",
       "      <td>What was the total Accumulated other equity of...</td>\n",
       "      <td>€57,829 million</td>\n",
       "      <td>Accumulated other equity\\nin € million NoteSub...</td>\n",
       "      <td>BMW-Group-Bericht-2020-EN.pdf</td>\n",
       "      <td>page_7</td>\n",
       "      <td>2020</td>\n",
       "      <td>Automotive</td>\n",
       "      <td>BMW</td>\n",
       "      <td>annual report</td>\n",
       "      <td>None</td>\n",
       "    </tr>\n",
       "  </tbody>\n",
       "</table>\n",
       "</div>"
      ],
      "text/plain": [
       "                                           Questions           Answers  \\\n",
       "0  What was the  Accumulated other comprehensive ...  ($1,434) million   \n",
       "1  In 2021, how much cash did Goldman Sachs use f...   $30,465 million   \n",
       "2  What was the net earnings of Goldman Sachs in ...   $11,261 million   \n",
       "3  What was the depreciation and amortization exp...    $1,098 million   \n",
       "4  What was the total Accumulated other equity of...   €57,829 million   \n",
       "\n",
       "                                            Contexts  \\\n",
       "0  Year Ended December\\n$ in millions 2022 2021 2...   \n",
       "1  Year Ended December\\n$ in millions 2022 2021 2...   \n",
       "2  Year Ended December\\n$ in millions 2022 2021 2...   \n",
       "3  Table of Contents\\nNVIDIA CORPORATION AND SUBS...   \n",
       "4  Accumulated other equity\\nin € million NoteSub...   \n",
       "\n",
       "                                   Document Page_no  Year              Sector  \\\n",
       "0                             2022-10-k.pdf  page_2  2022  Financial Services   \n",
       "1                             2022-10-k.pdf  page_3  2022  Financial Services   \n",
       "2                             2022-10-k.pdf  page_3  2022  Financial Services   \n",
       "3  4e9abe7b-fdc7-4cd2-8487-dc3a99f30e98.pdf  page_4  2022          Technology   \n",
       "4             BMW-Group-Bericht-2020-EN.pdf  page_7  2020          Automotive   \n",
       "\n",
       "          Entity  Document_type Quarter  \n",
       "0  Goldman Sachs  annual report    None  \n",
       "1  Goldman Sachs  annual report    None  \n",
       "2  Goldman Sachs  annual report    None  \n",
       "3         Nvidia  annual report    None  \n",
       "4            BMW  annual report    None  "
      ]
     },
     "execution_count": 8,
     "metadata": {},
     "output_type": "execute_result"
    }
   ],
   "source": [
    "dataset_train = pd.DataFrame(financial_qa_dataset['train'])\n",
    "dataset_test = pd.DataFrame(financial_qa_dataset['train'])\n",
    "dataset_df = pd.concat([dataset_train , dataset_test])\n",
    "dataset_df.head()"
   ]
  },
  {
   "cell_type": "code",
   "execution_count": 20,
   "metadata": {},
   "outputs": [
    {
     "data": {
      "text/plain": [
       "(88, 10)"
      ]
     },
     "execution_count": 20,
     "metadata": {},
     "output_type": "execute_result"
    }
   ],
   "source": [
    "# Remove all duplicate rows\n",
    "dataset_dedup = dataset_df.drop_duplicates(subset='Contexts')\n",
    "dataset_dedup.shape"
   ]
  },
  {
   "cell_type": "code",
   "execution_count": 21,
   "metadata": {},
   "outputs": [],
   "source": [
    "docs = []\n",
    "for idx , row in dataset_dedup.iterrows():\n",
    "    metadata = {'Document' : row['Document'] \n",
    "                , 'Page_no' : row['Page_no']\n",
    "                , 'Year' : row['Year']\n",
    "                , 'Sector' : row['Sector']\n",
    "                , 'Document_type' : row['Document_type']\n",
    "                }\n",
    "    docs.append(Document(page_content=row['Contexts'] , metadata = metadata))\n"
   ]
  },
  {
   "cell_type": "code",
   "execution_count": 25,
   "metadata": {},
   "outputs": [],
   "source": [
    "# load it into Chroma\n",
    "db = Chroma.from_documents(docs, embedding_function)"
   ]
  },
  {
   "cell_type": "code",
   "execution_count": 30,
   "metadata": {},
   "outputs": [],
   "source": [
    "# Set retreiver\n",
    "retriever = db.as_retriever()"
   ]
  },
  {
   "cell_type": "code",
   "execution_count": 33,
   "metadata": {},
   "outputs": [
    {
     "name": "stdout",
     "output_type": "stream",
     "text": [
      "Year Ended December\n",
      "$ in millions 2022 2021 2020\n",
      "Cash flows from operating activities   \n",
      "Net earnings $ 11,261 $ 21,635 $ 9,459 \n",
      "Adjustments to reconcile net earnings to net cash provided by/(used for) operating activities   \n",
      "Depreciation and amortization  2,455  2,015  1,902 \n",
      "Deferred income taxes  (2,412)  5  (833) \n",
      "Share-based compensation  4,083  2,348  1,920 \n",
      "Gain related to extinguishment of unsecured borrowings  –  –  (1) \n",
      "Provision for credit losses  2,715  357  3,098 \n",
      "Changes in operating assets and liabilities:   \n",
      "Customer and other receivables and payables, net  35,014  21,971  (30,895) \n",
      "Collateralized transactions (excluding other secured financings), net  (100,996)  (70,058)  (13,007) \n",
      "Trading assets  45,278  15,232  (33,405) \n",
      "Trading liabilities  8,062  26,616  44,892 \n",
      "Loans held for sale, net  3,161  (5,556)  1,820 \n",
      "Other, net  87  (8,267)  (3,485) \n",
      "Net cash provided by/(used for) operating activities  8,708  6,298  (18,535) \n",
      "Cash flows from investing activities   \n",
      "Purchase of property, leasehold improvements and equipment  (3,748)  (4,667)  (6,309) \n",
      "Proceeds from sales of property, leasehold improvements and equipment  2,706  3,933  2,970 \n",
      "Net cash used for business acquisitions  (2,115)  –  (231) \n",
      "Purchase of investments  (60,536)  (39,912)  (48,670) \n",
      "Proceeds from sales and paydowns of investments  12,961  45,701  29,057 \n",
      "Loans (excluding loans held for sale), net  (25,228)  (35,520)  (11,173) \n",
      "Net cash used for investing activities  (75,960)  (30,465)  (34,356) \n",
      "Cash flows from financing activities   \n",
      "Unsecured short-term borrowings, net  321  2,137  7,707 \n",
      "Other secured financings (short-term), net  (2,283)  (1,320)  2,861 \n",
      "Proceeds from issuance of other secured financings (long-term)  1,800  4,795  8,073 \n",
      "Repayment of other secured financings (long-term), including the current portion  (3,407)  (6,590)  (4,137) \n",
      "Purchase of Trust Preferred securities  –  –  (11) \n",
      "Proceeds from issuance of unsecured long-term borrowings  84,522  92,717  47,250 \n",
      "Repayment of unsecured long-term borrowings, including the current portion  (42,806)  (52,608)  (55,040) \n",
      "Derivative contracts with a financing element, net  1,797  1,121  1,037 \n",
      "Deposits, net  28,074  103,538  67,343 \n",
      "Preferred stock redemption  –  (2,675)  (350) \n",
      "Common stock repurchased  (3,500)  (5,200)  (1,928) \n",
      "Settlement of share-based awards in satisfaction of withholding tax requirements  (1,595)  (985)  (830) \n",
      "Dividends and dividend equivalents paid on common stock, preferred stock and share-based awards  (3,682)  (2,725)  (2,336) \n",
      "Proceeds from issuance of preferred stock, net of issuance costs  –  2,172  349 \n",
      "Other financing, net  361  361  392 \n",
      "Net cash provided by financing activities  59,602  134,738  70,380 \n",
      "Effect of exchange rate changes on cash and cash equivalents  (11,561)  (5,377)  4,807 \n",
      "Net increase/(decrease) in cash and cash equivalents  (19,211)  105,194  22,296 \n",
      "Cash and cash equivalents, beginning balance  261,036  155,842  133,546 \n",
      "Cash and cash equivalents, ending balance $ 241,825 $ 261,036 $ 155,842 \n",
      "Supplemental disclosures:   \n",
      "Cash payments for interest, net of capitalized interest $ 19,022 $ 5,521 $ 9,091 \n",
      "Cash payments for income taxes, net $ 4,555 $ 6,195 $ 2,754 \n",
      "See Notes 12 and 16 for information about non-cash activities. \n",
      "The accompanying notes are an integral part of these consolidated financial statements. THE GOLDMAN SACHS GROUP, INC. AND SUBSIDIARIES \n",
      "Consolidated Statements of Cash Flows \n",
      "126 Goldman Sachs 2022 Form 10-K\n"
     ]
    }
   ],
   "source": [
    "# query retreiver\n",
    "query = \"In 2021, how much cash did Goldman Sachs use?\"\n",
    "docs = retriever.invoke(query \n",
    "                        , search_kwargs={\"score_threshold\": 0.5 \n",
    "                                         , 'k' : 3}\n",
    "                                         )\n",
    "\n",
    "# print results\n",
    "print(docs[0].page_content)"
   ]
  },
  {
   "cell_type": "code",
   "execution_count": 36,
   "metadata": {},
   "outputs": [],
   "source": [
    "template = \"\"\"You are employed by HR COnsultancy.\n",
    "You are helpful chatbot that answers questions related to finance\n",
    "\n",
    "Use the following context to answer the question at the end.\n",
    "{context}\n",
    "\n",
    "- Answer only if you are very confident of the answer.\n",
    "- If you cannot answer using from the context alone, say \"I cannot determine the answer to that due to lack of context\"\n",
    "- If the context is empty, just say \"I do not know the answer to that.\"\n",
    "\n",
    "Answers should be informative.\n",
    "\n",
    "Question: {question}\n",
    "Helpful Answer:\"\"\"\n",
    "\n",
    "PROMPT = PromptTemplate(\n",
    "    template=template,\n",
    "    input_variables=[\"context\", \"question\"],\n",
    ")\n",
    "\n",
    "chain_type_kwargs = {\"prompt\": PROMPT}\n",
    "\n",
    "retrieval_qa = RetrievalQA.from_chain_type(\n",
    "    llm=llm,\n",
    "    chain_type=\"stuff\",\n",
    "    retriever=retriever,\n",
    "    return_source_documents=True,\n",
    "    chain_type_kwargs=chain_type_kwargs\n",
    ")"
   ]
  },
  {
   "cell_type": "code",
   "execution_count": 40,
   "metadata": {},
   "outputs": [],
   "source": [
    "query = \"Goldman Sachs Net earnings in 2022??\""
   ]
  },
  {
   "cell_type": "code",
   "execution_count": 41,
   "metadata": {},
   "outputs": [
    {
     "name": "stdout",
     "output_type": "stream",
     "text": [
      "## Goldman Sach's Net Earnings in 2022: \n",
      "\n",
      "Based on the provided financial statements, Goldman Sachs' net earnings in 2022 were **$11,261 million**. \n",
      "\n",
      "This information can be found on page 123 of the 2022 Form 10-K under the \"Consolidated Statements of Earnings\" section. \n",
      "\n"
     ]
    }
   ],
   "source": [
    "response = retrieval_qa({\"query\" : query})\n",
    "print(f\"{response['result']}\")"
   ]
  },
  {
   "cell_type": "code",
   "execution_count": 39,
   "metadata": {},
   "outputs": [
    {
     "name": "stdout",
     "output_type": "stream",
     "text": [
      "[Document(page_content='Year Ended December\\n$ in millions 2022 2021 2020\\nCash flows from operating activities   \\nNet earnings $ 11,261 $ 21,635 $ 9,459 \\nAdjustments to reconcile net earnings to net cash provided by/(used for) operating activities   \\nDepreciation and amortization  2,455  2,015  1,902 \\nDeferred income taxes  (2,412)  5  (833) \\nShare-based compensation  4,083  2,348  1,920 \\nGain related to extinguishment of unsecured borrowings  –  –  (1) \\nProvision for credit losses  2,715  357  3,098 \\nChanges in operating assets and liabilities:   \\nCustomer and other receivables and payables, net  35,014  21,971  (30,895) \\nCollateralized transactions (excluding other secured financings), net  (100,996)  (70,058)  (13,007) \\nTrading assets  45,278  15,232  (33,405) \\nTrading liabilities  8,062  26,616  44,892 \\nLoans held for sale, net  3,161  (5,556)  1,820 \\nOther, net  87  (8,267)  (3,485) \\nNet cash provided by/(used for) operating activities  8,708  6,298  (18,535) \\nCash flows from investing activities   \\nPurchase of property, leasehold improvements and equipment  (3,748)  (4,667)  (6,309) \\nProceeds from sales of property, leasehold improvements and equipment  2,706  3,933  2,970 \\nNet cash used for business acquisitions  (2,115)  –  (231) \\nPurchase of investments  (60,536)  (39,912)  (48,670) \\nProceeds from sales and paydowns of investments  12,961  45,701  29,057 \\nLoans (excluding loans held for sale), net  (25,228)  (35,520)  (11,173) \\nNet cash used for investing activities  (75,960)  (30,465)  (34,356) \\nCash flows from financing activities   \\nUnsecured short-term borrowings, net  321  2,137  7,707 \\nOther secured financings (short-term), net  (2,283)  (1,320)  2,861 \\nProceeds from issuance of other secured financings (long-term)  1,800  4,795  8,073 \\nRepayment of other secured financings (long-term), including the current portion  (3,407)  (6,590)  (4,137) \\nPurchase of Trust Preferred securities  –  –  (11) \\nProceeds from issuance of unsecured long-term borrowings  84,522  92,717  47,250 \\nRepayment of unsecured long-term borrowings, including the current portion  (42,806)  (52,608)  (55,040) \\nDerivative contracts with a financing element, net  1,797  1,121  1,037 \\nDeposits, net  28,074  103,538  67,343 \\nPreferred stock redemption  –  (2,675)  (350) \\nCommon stock repurchased  (3,500)  (5,200)  (1,928) \\nSettlement of share-based awards in satisfaction of withholding tax requirements  (1,595)  (985)  (830) \\nDividends and dividend equivalents paid on common stock, preferred stock and share-based awards  (3,682)  (2,725)  (2,336) \\nProceeds from issuance of preferred stock, net of issuance costs  –  2,172  349 \\nOther financing, net  361  361  392 \\nNet cash provided by financing activities  59,602  134,738  70,380 \\nEffect of exchange rate changes on cash and cash equivalents  (11,561)  (5,377)  4,807 \\nNet increase/(decrease) in cash and cash equivalents  (19,211)  105,194  22,296 \\nCash and cash equivalents, beginning balance  261,036  155,842  133,546 \\nCash and cash equivalents, ending balance $ 241,825 $ 261,036 $ 155,842 \\nSupplemental disclosures:   \\nCash payments for interest, net of capitalized interest $ 19,022 $ 5,521 $ 9,091 \\nCash payments for income taxes, net $ 4,555 $ 6,195 $ 2,754 \\nSee Notes 12 and 16 for information about non-cash activities. \\nThe accompanying notes are an integral part of these consolidated financial statements. THE GOLDMAN SACHS GROUP, INC. AND SUBSIDIARIES \\nConsolidated Statements of Cash Flows \\n126 Goldman Sachs 2022 Form 10-K', metadata={'Document': '2022-10-k.pdf', 'Document_type': 'annual report', 'Page_no': 'page_3', 'Sector': 'Financial Services', 'Year': 2022}), Document(page_content='Year Ended December\\n$ in millions 2023 2022 2021\\nCash flows from operating activities   \\nNet earnings $ 8,516 $ 11,261 $ 21,635 \\nAdjustments to reconcile net earnings to net cash provided by/(used for) operating activities   \\nDepreciation and amortization  4,856  2,455  2,015 \\nDeferred income taxes  (1,360)  (2,412)  5 \\nShare-based compensation  2,085  4,083  2,348 \\nProvision for credit losses  1,028  2,715  357 \\nChanges in operating assets and liabilities:   \\nCustomer and other receivables and payables, net  (28,219)  35,014  21,971 \\nCollateralized transactions (excluding other secured financings), net  160,227  (100,996)  (70,058) \\nTrading assets  (163,807)  45,278  15,232 \\nTrading liabilities  5,751  8,062  26,616 \\nLoans held for sale, net  1,635  3,161  (5,556) \\nOther, net  (3,299)  87  (8,267) \\nNet cash provided by/(used for) operating activities  (12,587)  8,708  6,298 \\nCash flows from investing activities   \\nPurchase of property, leasehold improvements and equipment  (2,316)  (3,748)  (4,667) \\nProceeds from sales of property, leasehold improvements and equipment  3,278  2,706  3,933 \\nNet cash received from/(used for) business dispositions or acquisitions  487  (2,115)  – \\nPurchase of investments  (40,256)  (60,536)  (39,912) \\nProceeds from sales and paydowns of investments  26,848  12,961  45,701 \\nLoans (excluding loans held for sale), net  (5,353)  (25,228)  (35,520) \\nNet cash used for investing activities  (17,312)  (75,960)  (30,465) \\nCash flows from financing activities   \\nUnsecured short-term borrowings, net  2,050  321  2,137 \\nOther secured financings (short-term), net  673  (2,283)  (1,320) \\nProceeds from issuance of other secured financings (long-term)  3,047  1,800  4,795 \\nRepayment of other secured financings (long-term), including the current portion  (3,570)  (3,407)  (6,590) \\nProceeds from issuance of unsecured long-term borrowings  47,153  84,522  92,717 \\nRepayment of unsecured long-term borrowings, including the current portion  (54,066)  (42,806)  (52,608) \\nDerivative contracts with a financing element, net  3,280  1,797  1,121 \\nDeposits, net  39,723  28,074  103,538 \\nPreferred stock redemption  (1,000)  –  (2,675) \\nCommon stock repurchased  (5,796)  (3,500)  (5,200) \\nSettlement of share-based awards in satisfaction of withholding tax requirements  (1,345)  (1,595)  (985) \\nDividends and dividend equivalents paid on common stock, preferred stock and share-based awards  (4,189)  (3,682)  (2,725) \\nProceeds from issuance of preferred stock, net of issuance costs  1,496  –  2,172 \\nOther financing, net  344  361  361 \\nNet cash provided by financing activities  27,800  59,602  134,738 \\nEffect of exchange rate changes on cash and cash equivalents  1,851  (11,561)  (5,377) \\nNet increase/(decrease) in cash and cash equivalents  (248)  (19,211)  105,194 \\nCash and cash equivalents, beginning balance  241,825  261,036  155,842 \\nCash and cash equivalents, ending balance $ 241,577 $ 241,825 $ 261,036 \\nSupplemental disclosures:   \\nCash payments for interest, net of capitalized interest $ 60,026 $ 19,022 $ 5,521 \\nCash payments for income taxes, net $ 2,389 $ 4,555 $ 6,195 \\nSee Notes 9, 12 and 16 for information about non-cash activities. \\nThe accompanying notes are an integral part of these consolidated financial statements. THE GOLDMAN SACHS GROUP, INC. AND SUBSIDIARIES \\nConsolidated Statements of Cash Flows\\nGoldman Sachs 2023 Form 10-K 131', metadata={'Document': '2023-10-k.pdf', 'Document_type': 'annual report', 'Page_no': 'page_3', 'Sector': 'Financial Services', 'Year': 2023}), Document(page_content='THE GOLDMAN SACHS GROUP, INC. AND SUBSIDIARIES\\nConsolidated Statements of Cash Flows\\nYear Ended December\\n$ in millions 2021 2020 2019\\nCash flows from operating activities\\nNet earnings $ 21,635 $ 9,459 $ 8,466\\nAdjustments to reconcile net earnings to net cash provided by/(used for) operating activities:\\nDepreciation and amortization 2,015 1,902 1,704\\nDeferred income taxes 5 (833) (334)\\nShare-based compensation 2,348 1,920 2,018\\nGain related to extinguishment of unsecured borrowings – (1) (20)\\nProvision for credit losses 357 3,098 1,065\\nChanges in operating assets and liabilities:\\nCustomer and other receivables and payables, net 21,971 (30,895) (7,693)\\nCollateralized transactions (excluding other secured financings), net (70,058) (13,007) 94,991\\nTrading assets 15,232 (33,405) (68,682)\\nTrading liabilities 26,616 44,892 (231)\\nLoans held for sale, net (5,556) 1,820 (1,458)\\nOther, net (13,644) 1,322 (5,958)\\nNet cash provided by/(used for) operating activities 921 (13,728) 23,868\\nCash flows from investing activitiesPurchase of property, leasehold improvements and equipment (4,667) (6,309) (8,443)\\nProceeds from sales of property, leasehold improvements and equipment 3,933 2,970 6,632\\nNet cash used for business acquisitions – (231) (803)\\nPurchase of investments (39,912) (48,670) (29,773)\\nProceeds from sales and paydowns of investments 45,701 29,057 17,812\\nLoans (excluding loans held for sale), net (35,520) (11,173) (9,661)\\nNet cash used for investing activities (30,465) (34,356) (24,236)\\nCash flows from financing activitiesUnsecured short-term borrowings, net 2,137 7,707 14\\nOther secured financings (short-term), net (1,320) 2,861 (2,050)\\nProceeds from issuance of other secured financings (long-term) 4,795 8,073 7,257\\nRepayment of other secured financings (long-term), including the current portion (6,590) (4,137) (7,468)\\nPurchase of Trust Preferred securities – (11) (206)\\nProceeds from issuance of unsecured long-term borrowings 92,717 47,250 22,381\\nRepayment of unsecured long-term borrowings, including the current portion (52,608) (55,040) (43,936)\\nDerivative contracts with a financing element, net 1,121 1,037 3,952\\nDeposits, net 103,538 67,343 31,214\\nPreferred stock redemption (2,675) (350) (1,100)\\nCommon stock repurchased (5,200) (1,928) (5,335)\\nSettlement of share-based awards in satisfaction of withholding tax requirements (985) (830) (745)\\nDividends and dividend equivalents paid on common stock, preferred stock and share-based awards (2,725) (2,336) (2,104)\\nProceeds from issuance of preferred stock, net of issuance costs 2,172 349 1,098\\nOther financing, net 361 392 395\\nNet cash provided by financing activities 134,738 70,380 3,367\\nNet increase in cash and cash equivalents 105,194 22,296 2,999\\nCash and cash equivalents, beginning balance 155,842 133,546 130,547\\nCash and cash equivalents, ending balance $261,036 $155,842 $133,546\\nSupplemental disclosures:\\nCash payments for interest, net of capitalized interest $ 5,521 $ 9,091 $ 18,645\\nCash payments for income taxes, net $ 6,195 $ 2,754 $ 1,266\\nSee Notes 12 and 16 for information about non-cash activities.\\nThe accompanying notes are an integral part of these consolidated financial statements.\\n124 Goldman Sachs 2021 Form 10-K', metadata={'Document': '2021-10-k.pdf', 'Document_type': 'annual report', 'Page_no': 'page_3', 'Sector': 'Financial Services', 'Year': 2021}), Document(page_content='THE GOLDMAN SACHS GROUP, INC. AND SUBSIDIARIES\\nConsolidated Balance Sheets\\nAs of December\\n$ in millions 2021 2020\\nAssets\\nCash and cash equivalents $ 261,036 $ 155,842\\nCollateralized agreements:\\nSecurities purchased under agreements to resell (at fair value) 205,703 108,060\\nSecurities borrowed (includes $39,955 and $28,898 at fair value) 178,771 142,160\\nCustomer and other receivables (includes $42and $82 at fair value) 160,673 121,331\\nTrading assets (at fair value and includes $68,208 and $69,031 pledged as collateral) 375,916 393,630\\nInvestments (includes $83,427 and $82,778 at fair value, and $12,840 and $13,375 pledged as collateral) 88,719 88,445\\nLoans (net of allowance of $3,573 and $3,874, and includes $10,769 and $13,625 at fair value) 158,562 116,115\\nOther assets 34,608 37,445\\nTotal assets $1,463,988 $1,163,028\\nLiabilities and shareholders’ equityDeposits (includes $35,425 and $16,176 at fair value) $ 364,227 $ 259,962\\nCollateralized financings:\\nSecurities sold under agreements to repurchase (at fair value) 165,883 126,571\\nSecurities loaned (includes $9,170 and $1,053 at fair value) 46,505 21,621\\nOther secured financings (includes $17,074 and $24,126 at fair value) 18,544 25,755\\nCustomer and other payables 251,931 190,658\\nTrading liabilities (at fair value) 181,424 153,727\\nUnsecured short-term borrowings (includes $29,832 and $26,750 at fair value) 46,955 52,870\\nUnsecured long-term borrowings (includes $52,390 and $40,911 at fair value) 254,092 213,481\\nOther liabilities (includes $359 and $263 at fair value) 24,501 22,451\\nTotal liabilities 1,354,062 1,067,096\\nCommitments, contingencies and guarantees\\nShareholders’ equity\\nPreferred stock; aggregate liquidation preference of $10,703 and $11,203 10,703 11,203\\nCommon stock; 906,430,314 and 901,692,039 shares issued, and 333,573,254 and 344,088,725 shares outstanding 9 9\\nShare-based awards 4,211 3,468\\nNonvoting common stock; no shares issued and outstanding – –\\nAdditional paid-in capital 56,396 55,679\\nRetained earnings 131,811 112,947\\nAccumulated other comprehensive loss (2,068) (1,434)\\nStock held in treasury, at cost; 572,857,062 and 557,603,316 shares (91,136) (85,940)\\nTotal shareholders’ equity 109,926 95,932\\nTotal liabilities and shareholders’ equity $1,463,988 $1,163,028\\nThe accompanying notes are an integral part of these consolidated financial statements.\\n122 Goldman Sachs 2021 Form 10-K', metadata={'Document': '2021-10-k.pdf', 'Document_type': 'annual report', 'Page_no': 'page_1', 'Sector': 'Financial Services', 'Year': 2021})]\n"
     ]
    }
   ],
   "source": [
    "print(f\"{response['source_documents']}\")"
   ]
  },
  {
   "cell_type": "code",
   "execution_count": null,
   "metadata": {},
   "outputs": [],
   "source": []
  }
 ],
 "metadata": {
  "kernelspec": {
   "display_name": "Python 3",
   "language": "python",
   "name": "python3"
  },
  "language_info": {
   "codemirror_mode": {
    "name": "ipython",
    "version": 3
   },
   "file_extension": ".py",
   "mimetype": "text/x-python",
   "name": "python",
   "nbconvert_exporter": "python",
   "pygments_lexer": "ipython3",
   "version": "3.11.6"
  }
 },
 "nbformat": 4,
 "nbformat_minor": 2
}
